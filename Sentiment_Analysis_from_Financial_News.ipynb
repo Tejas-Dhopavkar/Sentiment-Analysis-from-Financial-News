{
  "nbformat": 4,
  "nbformat_minor": 0,
  "metadata": {
    "colab": {
      "provenance": [],
      "collapsed_sections": []
    },
    "kernelspec": {
      "name": "python3",
      "display_name": "Python 3"
    },
    "language_info": {
      "name": "python"
    }
  },
  "cells": [
    {
      "cell_type": "code",
      "execution_count": 16,
      "metadata": {
        "id": "14r3y0-DXBHv"
      },
      "outputs": [],
      "source": [
        "from tensorflow.keras.models import Sequential\n",
        "from tensorflow.python.keras.layers import Dense, GRU, Embedding\n",
        "from tensorflow.keras.optimizers import Adam\n",
        "from tensorflow.keras.preprocessing.text import Tokenizer\n",
        "from tensorflow.keras.preprocessing.sequence import pad_sequences\n",
        "\n",
        "import string\n",
        "from textblob import TextBlob\n",
        "import spacy\n",
        "nlp=spacy.load('en_core_web_sm')\n",
        "\n",
        "from sklearn.model_selection import train_test_split\n",
        "from sklearn.linear_model import LogisticRegression\n",
        "from sklearn.metrics import confusion_matrix, precision_score,recall_score\n",
        "from sklearn.preprocessing import OneHotEncoder\n",
        "from sklearn.preprocessing import LabelEncoder\n",
        "import seaborn as sns\n",
        "import numpy as np\n",
        "import pandas as pd\n",
        "import matplotlib.pyplot as plt\n",
        "from wordcloud import WordCloud, STOPWORDS, ImageColorGenerator"
      ]
    },
    {
      "cell_type": "code",
      "source": [
        "def read_data():\n",
        "    dataset=pd.read_csv('Dataset.csv',\n",
        "                header=None,\n",
        "                 names=['Sentiment','News'],\n",
        "                 encoding=\"cp1252\")\n",
        "    return dataset\n",
        "\n",
        "def convert_to_lower_case():\n",
        "    def lower(input_text):\n",
        "        return input_text.lower()\n",
        "    dataset['News']=dataset['News'].apply(lower)\n",
        "    \n",
        "def remove_punctuation():\n",
        "    def remove_punctuation_from_text(input_text):\n",
        "        output_list=[word for word in input_text.split() if word.isalpha()]\n",
        "        return ' '.join(output_list)    \n",
        "    dataset['News']=dataset['News'].apply(remove_punctuation_from_text)\n",
        "\n",
        "def correct_words():\n",
        "    def correct_text(input_text):\n",
        "        list_1=[str(TextBlob(word).correct()) for word in input_text.split()]\n",
        "        output_text= ' '.join(list_1)\n",
        "        return output_text\n",
        "    dataset['News']=dataset['News'].apply(correct_text)\n",
        "    \n",
        "def lemmatize():\n",
        "    def lematize_text(input_text):\n",
        "        doc=nlp(input_text)\n",
        "        lemmas=[token.lemma_ for token in doc]\n",
        "        output_text=' '.join(lemmas)\n",
        "        return output_text\n",
        "    dataset['News']=dataset['News'].apply(lematize_text)\n",
        "    \n",
        "def remove_stopwords():\n",
        "    def remove_stopwords_from_text(input_text):\n",
        "        stopwords=spacy.lang.en.stop_words.STOP_WORDS\n",
        "        output_list=[word for word in input_text.split() if word not in stopwords and not(word=='-PRON-') ]\n",
        "        return ' '.join(output_list)\n",
        "    dataset['News']=dataset['News'].apply(remove_stopwords_from_text)\n",
        "\n",
        "def split_train_test():\n",
        "    data = dataset['News'].values.tolist()\n",
        "    target = dataset['Sentiment'].values.tolist()\n",
        "    x_train, x_test, y_train, y_test = train_test_split(data, target, test_size=0.2, random_state=42,stratify=target)\n",
        "    y_train=np.array(y_train)\n",
        "    y_test=np.array(y_test)\n",
        "    return x_train, x_test, y_train, y_test "
      ],
      "metadata": {
        "id": "g5qQgzNRXlxu"
      },
      "execution_count": 49,
      "outputs": []
    },
    {
      "cell_type": "code",
      "source": [
        "#reading the data\n",
        "dataset=read_data()\n",
        "\n",
        "dataset.head()"
      ],
      "metadata": {
        "id": "7b2-LWXBYyzx",
        "colab": {
          "base_uri": "https://localhost:8080/",
          "height": 206
        },
        "outputId": "f352f479-c231-4976-ca0f-bc86ca84fa36"
      },
      "execution_count": 50,
      "outputs": [
        {
          "output_type": "execute_result",
          "data": {
            "text/plain": [
              "  Sentiment                                               News\n",
              "0   neutral  According to Gran , the company has no plans t...\n",
              "1   neutral  Technopolis plans to develop in stages an area...\n",
              "2  negative  The international electronic industry company ...\n",
              "3  positive  With the new production plant the company woul...\n",
              "4  positive  According to the company 's updated strategy f..."
            ],
            "text/html": [
              "\n",
              "  <div id=\"df-5d6fac32-c710-40c8-bae1-6235b5493876\">\n",
              "    <div class=\"colab-df-container\">\n",
              "      <div>\n",
              "<style scoped>\n",
              "    .dataframe tbody tr th:only-of-type {\n",
              "        vertical-align: middle;\n",
              "    }\n",
              "\n",
              "    .dataframe tbody tr th {\n",
              "        vertical-align: top;\n",
              "    }\n",
              "\n",
              "    .dataframe thead th {\n",
              "        text-align: right;\n",
              "    }\n",
              "</style>\n",
              "<table border=\"1\" class=\"dataframe\">\n",
              "  <thead>\n",
              "    <tr style=\"text-align: right;\">\n",
              "      <th></th>\n",
              "      <th>Sentiment</th>\n",
              "      <th>News</th>\n",
              "    </tr>\n",
              "  </thead>\n",
              "  <tbody>\n",
              "    <tr>\n",
              "      <th>0</th>\n",
              "      <td>neutral</td>\n",
              "      <td>According to Gran , the company has no plans t...</td>\n",
              "    </tr>\n",
              "    <tr>\n",
              "      <th>1</th>\n",
              "      <td>neutral</td>\n",
              "      <td>Technopolis plans to develop in stages an area...</td>\n",
              "    </tr>\n",
              "    <tr>\n",
              "      <th>2</th>\n",
              "      <td>negative</td>\n",
              "      <td>The international electronic industry company ...</td>\n",
              "    </tr>\n",
              "    <tr>\n",
              "      <th>3</th>\n",
              "      <td>positive</td>\n",
              "      <td>With the new production plant the company woul...</td>\n",
              "    </tr>\n",
              "    <tr>\n",
              "      <th>4</th>\n",
              "      <td>positive</td>\n",
              "      <td>According to the company 's updated strategy f...</td>\n",
              "    </tr>\n",
              "  </tbody>\n",
              "</table>\n",
              "</div>\n",
              "      <button class=\"colab-df-convert\" onclick=\"convertToInteractive('df-5d6fac32-c710-40c8-bae1-6235b5493876')\"\n",
              "              title=\"Convert this dataframe to an interactive table.\"\n",
              "              style=\"display:none;\">\n",
              "        \n",
              "  <svg xmlns=\"http://www.w3.org/2000/svg\" height=\"24px\"viewBox=\"0 0 24 24\"\n",
              "       width=\"24px\">\n",
              "    <path d=\"M0 0h24v24H0V0z\" fill=\"none\"/>\n",
              "    <path d=\"M18.56 5.44l.94 2.06.94-2.06 2.06-.94-2.06-.94-.94-2.06-.94 2.06-2.06.94zm-11 1L8.5 8.5l.94-2.06 2.06-.94-2.06-.94L8.5 2.5l-.94 2.06-2.06.94zm10 10l.94 2.06.94-2.06 2.06-.94-2.06-.94-.94-2.06-.94 2.06-2.06.94z\"/><path d=\"M17.41 7.96l-1.37-1.37c-.4-.4-.92-.59-1.43-.59-.52 0-1.04.2-1.43.59L10.3 9.45l-7.72 7.72c-.78.78-.78 2.05 0 2.83L4 21.41c.39.39.9.59 1.41.59.51 0 1.02-.2 1.41-.59l7.78-7.78 2.81-2.81c.8-.78.8-2.07 0-2.86zM5.41 20L4 18.59l7.72-7.72 1.47 1.35L5.41 20z\"/>\n",
              "  </svg>\n",
              "      </button>\n",
              "      \n",
              "  <style>\n",
              "    .colab-df-container {\n",
              "      display:flex;\n",
              "      flex-wrap:wrap;\n",
              "      gap: 12px;\n",
              "    }\n",
              "\n",
              "    .colab-df-convert {\n",
              "      background-color: #E8F0FE;\n",
              "      border: none;\n",
              "      border-radius: 50%;\n",
              "      cursor: pointer;\n",
              "      display: none;\n",
              "      fill: #1967D2;\n",
              "      height: 32px;\n",
              "      padding: 0 0 0 0;\n",
              "      width: 32px;\n",
              "    }\n",
              "\n",
              "    .colab-df-convert:hover {\n",
              "      background-color: #E2EBFA;\n",
              "      box-shadow: 0px 1px 2px rgba(60, 64, 67, 0.3), 0px 1px 3px 1px rgba(60, 64, 67, 0.15);\n",
              "      fill: #174EA6;\n",
              "    }\n",
              "\n",
              "    [theme=dark] .colab-df-convert {\n",
              "      background-color: #3B4455;\n",
              "      fill: #D2E3FC;\n",
              "    }\n",
              "\n",
              "    [theme=dark] .colab-df-convert:hover {\n",
              "      background-color: #434B5C;\n",
              "      box-shadow: 0px 1px 3px 1px rgba(0, 0, 0, 0.15);\n",
              "      filter: drop-shadow(0px 1px 2px rgba(0, 0, 0, 0.3));\n",
              "      fill: #FFFFFF;\n",
              "    }\n",
              "  </style>\n",
              "\n",
              "      <script>\n",
              "        const buttonEl =\n",
              "          document.querySelector('#df-5d6fac32-c710-40c8-bae1-6235b5493876 button.colab-df-convert');\n",
              "        buttonEl.style.display =\n",
              "          google.colab.kernel.accessAllowed ? 'block' : 'none';\n",
              "\n",
              "        async function convertToInteractive(key) {\n",
              "          const element = document.querySelector('#df-5d6fac32-c710-40c8-bae1-6235b5493876');\n",
              "          const dataTable =\n",
              "            await google.colab.kernel.invokeFunction('convertToInteractive',\n",
              "                                                     [key], {});\n",
              "          if (!dataTable) return;\n",
              "\n",
              "          const docLinkHtml = 'Like what you see? Visit the ' +\n",
              "            '<a target=\"_blank\" href=https://colab.research.google.com/notebooks/data_table.ipynb>data table notebook</a>'\n",
              "            + ' to learn more about interactive tables.';\n",
              "          element.innerHTML = '';\n",
              "          dataTable['output_type'] = 'display_data';\n",
              "          await google.colab.output.renderOutput(dataTable, element);\n",
              "          const docLink = document.createElement('div');\n",
              "          docLink.innerHTML = docLinkHtml;\n",
              "          element.appendChild(docLink);\n",
              "        }\n",
              "      </script>\n",
              "    </div>\n",
              "  </div>\n",
              "  "
            ]
          },
          "metadata": {},
          "execution_count": 50
        }
      ]
    },
    {
      "cell_type": "code",
      "source": [
        "dataset = dataset.replace('positive', 1)\n",
        "print(dataset.head())"
      ],
      "metadata": {
        "colab": {
          "base_uri": "https://localhost:8080/"
        },
        "id": "nGcnuoLEIyaP",
        "outputId": "7b056b5f-83a4-418b-deb9-be604fbf4b16"
      },
      "execution_count": 51,
      "outputs": [
        {
          "output_type": "stream",
          "name": "stdout",
          "text": [
            "  Sentiment                                               News\n",
            "0   neutral  According to Gran , the company has no plans t...\n",
            "1   neutral  Technopolis plans to develop in stages an area...\n",
            "2  negative  The international electronic industry company ...\n",
            "3         1  With the new production plant the company woul...\n",
            "4         1  According to the company 's updated strategy f...\n"
          ]
        }
      ]
    },
    {
      "cell_type": "code",
      "source": [
        "dataset = dataset.replace('negative', 2)\n",
        "dataset = dataset.replace('neutral', 0)"
      ],
      "metadata": {
        "id": "Z5YjkRvOI-iL"
      },
      "execution_count": 52,
      "outputs": []
    },
    {
      "cell_type": "code",
      "source": [
        "print(dataset.head())"
      ],
      "metadata": {
        "colab": {
          "base_uri": "https://localhost:8080/"
        },
        "id": "LaNQDtXFJUpE",
        "outputId": "128a290a-4159-40a5-9c0a-aa4a3975baa4"
      },
      "execution_count": 53,
      "outputs": [
        {
          "output_type": "stream",
          "name": "stdout",
          "text": [
            "   Sentiment                                               News\n",
            "0          0  According to Gran , the company has no plans t...\n",
            "1          0  Technopolis plans to develop in stages an area...\n",
            "2          2  The international electronic industry company ...\n",
            "3          1  With the new production plant the company woul...\n",
            "4          1  According to the company 's updated strategy f...\n"
          ]
        }
      ]
    },
    {
      "cell_type": "markdown",
      "source": [
        "# **Visualizations**"
      ],
      "metadata": {
        "id": "dCHXt7D5wo9g"
      }
    },
    {
      "cell_type": "code",
      "source": [
        "dataset['Sentiment'].value_counts().plot(kind='bar')\n",
        "plt.show()"
      ],
      "metadata": {
        "colab": {
          "base_uri": "https://localhost:8080/",
          "height": 264
        },
        "id": "Y6eaKhocwX1G",
        "outputId": "84527fc0-35d9-40b9-c81a-96d5146705cf"
      },
      "execution_count": 54,
      "outputs": [
        {
          "output_type": "display_data",
          "data": {
            "text/plain": [
              "<Figure size 432x288 with 1 Axes>"
            ],
            "image/png": "[encoded data removed]"
          },
          "metadata": {
            "needs_background": "light"
          }
        }
      ]
    },
    {
      "cell_type": "code",
      "source": [
        "neutral_dataframe = dataset[dataset['Sentiment']==0]\n",
        "positive_dataframe = dataset[dataset['Sentiment']==1]\n",
        "negative_dataframe = dataset[dataset['Sentiment']==2]\n",
        "negative_dataframe.head()"
      ],
      "metadata": {
        "colab": {
          "base_uri": "https://localhost:8080/",
          "height": 206
        },
        "id": "zMQeniod03Sr",
        "outputId": "06d4aa11-afc8-47e3-fe69-c3fa3563a63d"
      },
      "execution_count": 55,
      "outputs": [
        {
          "output_type": "execute_result",
          "data": {
            "text/plain": [
              "     Sentiment                                               News\n",
              "2            2  The international electronic industry company ...\n",
              "415          2  A tinyurl link takes users to a scamming site ...\n",
              "421          2  Compared with the FTSE 100 index , which rose ...\n",
              "423          2  Compared with the FTSE 100 index , which rose ...\n",
              "500          2  One of the challenges in the oil production in..."
            ],
            "text/html": [
              "\n",
              "  <div id=\"df-944d9553-fc01-44a1-9aa3-bebf8ca8f836\">\n",
              "    <div class=\"colab-df-container\">\n",
              "      <div>\n",
              "<style scoped>\n",
              "    .dataframe tbody tr th:only-of-type {\n",
              "        vertical-align: middle;\n",
              "    }\n",
              "\n",
              "    .dataframe tbody tr th {\n",
              "        vertical-align: top;\n",
              "    }\n",
              "\n",
              "    .dataframe thead th {\n",
              "        text-align: right;\n",
              "    }\n",
              "</style>\n",
              "<table border=\"1\" class=\"dataframe\">\n",
              "  <thead>\n",
              "    <tr style=\"text-align: right;\">\n",
              "      <th></th>\n",
              "      <th>Sentiment</th>\n",
              "      <th>News</th>\n",
              "    </tr>\n",
              "  </thead>\n",
              "  <tbody>\n",
              "    <tr>\n",
              "      <th>2</th>\n",
              "      <td>2</td>\n",
              "      <td>The international electronic industry company ...</td>\n",
              "    </tr>\n",
              "    <tr>\n",
              "      <th>415</th>\n",
              "      <td>2</td>\n",
              "      <td>A tinyurl link takes users to a scamming site ...</td>\n",
              "    </tr>\n",
              "    <tr>\n",
              "      <th>421</th>\n",
              "      <td>2</td>\n",
              "      <td>Compared with the FTSE 100 index , which rose ...</td>\n",
              "    </tr>\n",
              "    <tr>\n",
              "      <th>423</th>\n",
              "      <td>2</td>\n",
              "      <td>Compared with the FTSE 100 index , which rose ...</td>\n",
              "    </tr>\n",
              "    <tr>\n",
              "      <th>500</th>\n",
              "      <td>2</td>\n",
              "      <td>One of the challenges in the oil production in...</td>\n",
              "    </tr>\n",
              "  </tbody>\n",
              "</table>\n",
              "</div>\n",
              "      <button class=\"colab-df-convert\" onclick=\"convertToInteractive('df-944d9553-fc01-44a1-9aa3-bebf8ca8f836')\"\n",
              "              title=\"Convert this dataframe to an interactive table.\"\n",
              "              style=\"display:none;\">\n",
              "        \n",
              "  <svg xmlns=\"http://www.w3.org/2000/svg\" height=\"24px\"viewBox=\"0 0 24 24\"\n",
              "       width=\"24px\">\n",
              "    <path d=\"M0 0h24v24H0V0z\" fill=\"none\"/>\n",
              "    <path d=\"M18.56 5.44l.94 2.06.94-2.06 2.06-.94-2.06-.94-.94-2.06-.94 2.06-2.06.94zm-11 1L8.5 8.5l.94-2.06 2.06-.94-2.06-.94L8.5 2.5l-.94 2.06-2.06.94zm10 10l.94 2.06.94-2.06 2.06-.94-2.06-.94-.94-2.06-.94 2.06-2.06.94z\"/><path d=\"M17.41 7.96l-1.37-1.37c-.4-.4-.92-.59-1.43-.59-.52 0-1.04.2-1.43.59L10.3 9.45l-7.72 7.72c-.78.78-.78 2.05 0 2.83L4 21.41c.39.39.9.59 1.41.59.51 0 1.02-.2 1.41-.59l7.78-7.78 2.81-2.81c.8-.78.8-2.07 0-2.86zM5.41 20L4 18.59l7.72-7.72 1.47 1.35L5.41 20z\"/>\n",
              "  </svg>\n",
              "      </button>\n",
              "      \n",
              "  <style>\n",
              "    .colab-df-container {\n",
              "      display:flex;\n",
              "      flex-wrap:wrap;\n",
              "      gap: 12px;\n",
              "    }\n",
              "\n",
              "    .colab-df-convert {\n",
              "      background-color: #E8F0FE;\n",
              "      border: none;\n",
              "      border-radius: 50%;\n",
              "      cursor: pointer;\n",
              "      display: none;\n",
              "      fill: #1967D2;\n",
              "      height: 32px;\n",
              "      padding: 0 0 0 0;\n",
              "      width: 32px;\n",
              "    }\n",
              "\n",
              "    .colab-df-convert:hover {\n",
              "      background-color: #E2EBFA;\n",
              "      box-shadow: 0px 1px 2px rgba(60, 64, 67, 0.3), 0px 1px 3px 1px rgba(60, 64, 67, 0.15);\n",
              "      fill: #174EA6;\n",
              "    }\n",
              "\n",
              "    [theme=dark] .colab-df-convert {\n",
              "      background-color: #3B4455;\n",
              "      fill: #D2E3FC;\n",
              "    }\n",
              "\n",
              "    [theme=dark] .colab-df-convert:hover {\n",
              "      background-color: #434B5C;\n",
              "      box-shadow: 0px 1px 3px 1px rgba(0, 0, 0, 0.15);\n",
              "      filter: drop-shadow(0px 1px 2px rgba(0, 0, 0, 0.3));\n",
              "      fill: #FFFFFF;\n",
              "    }\n",
              "  </style>\n",
              "\n",
              "      <script>\n",
              "        const buttonEl =\n",
              "          document.querySelector('#df-944d9553-fc01-44a1-9aa3-bebf8ca8f836 button.colab-df-convert');\n",
              "        buttonEl.style.display =\n",
              "          google.colab.kernel.accessAllowed ? 'block' : 'none';\n",
              "\n",
              "        async function convertToInteractive(key) {\n",
              "          const element = document.querySelector('#df-944d9553-fc01-44a1-9aa3-bebf8ca8f836');\n",
              "          const dataTable =\n",
              "            await google.colab.kernel.invokeFunction('convertToInteractive',\n",
              "                                                     [key], {});\n",
              "          if (!dataTable) return;\n",
              "\n",
              "          const docLinkHtml = 'Like what you see? Visit the ' +\n",
              "            '<a target=\"_blank\" href=https://colab.research.google.com/notebooks/data_table.ipynb>data table notebook</a>'\n",
              "            + ' to learn more about interactive tables.';\n",
              "          element.innerHTML = '';\n",
              "          dataTable['output_type'] = 'display_data';\n",
              "          await google.colab.output.renderOutput(dataTable, element);\n",
              "          const docLink = document.createElement('div');\n",
              "          docLink.innerHTML = docLinkHtml;\n",
              "          element.appendChild(docLink);\n",
              "        }\n",
              "      </script>\n",
              "    </div>\n",
              "  </div>\n",
              "  "
            ]
          },
          "metadata": {},
          "execution_count": 55
        }
      ]
    },
    {
      "cell_type": "markdown",
      "source": [
        "# **Pre-Processing**"
      ],
      "metadata": {
        "id": "EmAPzUnI2KsY"
      }
    },
    {
      "cell_type": "code",
      "source": [
        "#Preprocessing the text\n",
        "convert_to_lower_case()\n",
        "remove_punctuation()\n",
        "lemmatize()\n",
        "remove_stopwords()\n",
        "\n",
        "#Preparing data for model\n",
        "print(dataset.head())\n"
      ],
      "metadata": {
        "id": "kB7ePdnFwTkz",
        "colab": {
          "base_uri": "https://localhost:8080/"
        },
        "outputId": "369e73e8-b825-434b-b053-ca992df04ebc"
      },
      "execution_count": 56,
      "outputs": [
        {
          "output_type": "stream",
          "name": "stdout",
          "text": [
            "   Sentiment                                               News\n",
            "0          0  accord gran company plan production russia com...\n",
            "1          0  technopoli plan develop stage area square mete...\n",
            "2          2  international electronic industry company elco...\n",
            "3          1  new production plant company increase capacity...\n",
            "4          1  accord company update strategy year basware ta...\n"
          ]
        }
      ]
    },
    {
      "cell_type": "code",
      "source": [
        "dataset.columns"
      ],
      "metadata": {
        "colab": {
          "base_uri": "https://localhost:8080/"
        },
        "id": "NGzDQDE5D8CA",
        "outputId": "1292bcde-ae38-4785-9e0a-94b0d59845b5"
      },
      "execution_count": 57,
      "outputs": [
        {
          "output_type": "execute_result",
          "data": {
            "text/plain": [
              "Index(['Sentiment', 'News'], dtype='object')"
            ]
          },
          "metadata": {},
          "execution_count": 57
        }
      ]
    },
    {
      "cell_type": "code",
      "source": [
        "x_train, x_test, y_train, y_test =split_train_test()"
      ],
      "metadata": {
        "id": "D6cYrDqZHp89"
      },
      "execution_count": 58,
      "outputs": []
    },
    {
      "cell_type": "markdown",
      "source": [
        "# **Model Training**"
      ],
      "metadata": {
        "id": "vZ1jUuq83-Ox"
      }
    },
    {
      "cell_type": "markdown",
      "source": [
        "**N-Grams, Decision Tree Classifier**"
      ],
      "metadata": {
        "id": "roT8qFP34Ei3"
      }
    },
    {
      "cell_type": "code",
      "source": [
        "from sklearn.feature_extraction.text import CountVectorizer\n",
        "vect = CountVectorizer(min_df= 5, ngram_range=(1,2)).fit(x_train)"
      ],
      "metadata": {
        "id": "KgOs-H2z4HC3"
      },
      "execution_count": 59,
      "outputs": []
    },
    {
      "cell_type": "code",
      "source": [
        "len(vect.get_feature_names())"
      ],
      "metadata": {
        "colab": {
          "base_uri": "https://localhost:8080/"
        },
        "id": "xD3fZMPs5Hqm",
        "outputId": "6d86847a-e284-4631-bca9-0f567a20faaa"
      },
      "execution_count": 60,
      "outputs": [
        {
          "output_type": "stream",
          "name": "stderr",
          "text": [
            "/usr/local/lib/python3.7/dist-packages/sklearn/utils/deprecation.py:87: FutureWarning: Function get_feature_names is deprecated; get_feature_names is deprecated in 1.0 and will be removed in 1.2. Please use get_feature_names_out instead.\n",
            "  warnings.warn(msg, category=FutureWarning)\n"
          ]
        },
        {
          "output_type": "execute_result",
          "data": {
            "text/plain": [
              "1936"
            ]
          },
          "metadata": {},
          "execution_count": 60
        }
      ]
    },
    {
      "cell_type": "code",
      "source": [
        "X_train_vectorized = vect.transform(x_train)"
      ],
      "metadata": {
        "id": "fEd1I6hl5KqW"
      },
      "execution_count": 61,
      "outputs": []
    },
    {
      "cell_type": "code",
      "source": [
        "print(X_train_vectorized)"
      ],
      "metadata": {
        "id": "K4iWLAp55SoY"
      },
      "execution_count": null,
      "outputs": []
    },
    {
      "cell_type": "code",
      "source": [
        "from sklearn.tree import DecisionTreeClassifier\n",
        "DT = DecisionTreeClassifier()\n",
        "DT.fit(X_train_vectorized, y_train)"
      ],
      "metadata": {
        "colab": {
          "base_uri": "https://localhost:8080/"
        },
        "id": "KvUJEV5qKpYk",
        "outputId": "b7497e3e-66e9-4894-f0c7-42326c838f7b"
      },
      "execution_count": 64,
      "outputs": [
        {
          "output_type": "execute_result",
          "data": {
            "text/plain": [
              "DecisionTreeClassifier()"
            ]
          },
          "metadata": {},
          "execution_count": 64
        }
      ]
    },
    {
      "cell_type": "code",
      "source": [
        "X_test_vectorized = vect.transform(x_test)"
      ],
      "metadata": {
        "id": "ZghIfg6YLRQT"
      },
      "execution_count": 66,
      "outputs": []
    },
    {
      "cell_type": "code",
      "source": [
        "DT_predictions = DT.predict(X_test_vectorized)\n",
        "DT_score = DT.score(X_test_vectorized, y_test)\n",
        "print(DT_score)"
      ],
      "metadata": {
        "colab": {
          "base_uri": "https://localhost:8080/"
        },
        "id": "qYGMk-jmKpgB",
        "outputId": "410c231f-dfd3-46f9-c8c9-a3622c5bf11f"
      },
      "execution_count": 68,
      "outputs": [
        {
          "output_type": "stream",
          "name": "stdout",
          "text": [
            "0.7144329896907217\n"
          ]
        }
      ]
    },
    {
      "cell_type": "code",
      "source": [
        "from sklearn.metrics import classification_report, confusion_matrix"
      ],
      "metadata": {
        "id": "cuFcrCH4iHp1"
      },
      "execution_count": 78,
      "outputs": []
    },
    {
      "cell_type": "code",
      "source": [
        "print(classification_report(y_test, DT_predictions))"
      ],
      "metadata": {
        "colab": {
          "base_uri": "https://localhost:8080/"
        },
        "id": "qCuRslzIiU3m",
        "outputId": "4ba62963-8391-4c61-e675-6e5c888e4190"
      },
      "execution_count": 79,
      "outputs": [
        {
          "output_type": "stream",
          "name": "stdout",
          "text": [
            "              precision    recall  f1-score   support\n",
            "\n",
            "           0       0.77      0.81      0.79       576\n",
            "           1       0.66      0.59      0.62       273\n",
            "           2       0.55      0.55      0.55       121\n",
            "\n",
            "    accuracy                           0.71       970\n",
            "   macro avg       0.66      0.65      0.65       970\n",
            "weighted avg       0.71      0.71      0.71       970\n",
            "\n"
          ]
        }
      ]
    },
    {
      "cell_type": "code",
      "source": [
        "print(DT_predictions)"
      ],
      "metadata": {
        "colab": {
          "base_uri": "https://localhost:8080/"
        },
        "id": "1LLK0yvGLsmy",
        "outputId": "b7d9300d-0516-4dce-ece8-fb108ea71bf3"
      },
      "execution_count": 71,
      "outputs": [
        {
          "output_type": "stream",
          "name": "stdout",
          "text": [
            "[2 0 0 2 0 0 0 0 0 2 0 0 0 0 0 0 0 1 2 2 1 0 1 2 2 0 2 0 0 0 0 1 0 0 1 0 0\n",
            " 0 1 2 2 0 2 0 0 0 1 0 0 0 0 0 0 0 0 0 0 0 0 0 0 2 0 0 2 0 0 2 0 0 2 0 0 1\n",
            " 0 0 0 1 0 0 0 0 1 2 2 1 0 0 0 0 0 1 2 0 0 1 0 0 0 0 2 0 0 1 2 0 2 0 0 2 0\n",
            " 0 1 1 0 0 0 1 2 0 0 0 2 1 1 0 1 1 0 0 0 1 0 0 0 1 0 0 2 2 1 2 0 0 0 1 1 0\n",
            " 0 1 0 0 1 1 0 0 0 2 1 2 0 1 0 1 0 1 0 0 1 0 0 0 0 2 0 1 0 0 1 1 1 0 0 1 0\n",
            " 0 1 0 0 0 2 1 1 1 0 2 1 0 0 0 1 0 0 0 0 0 2 0 0 0 1 0 0 0 1 0 1 0 0 1 0 0\n",
            " 0 0 0 0 0 2 0 1 1 0 0 1 1 1 0 1 0 0 1 0 0 1 1 0 0 0 0 0 0 1 1 0 2 0 0 1 1\n",
            " 0 0 0 0 0 1 0 1 0 0 0 1 0 0 0 0 0 0 0 0 0 0 0 2 0 1 1 1 0 1 0 1 2 0 0 1 1\n",
            " 0 0 1 0 1 0 0 0 0 0 0 0 0 0 2 0 1 0 0 0 1 0 0 1 0 1 0 0 0 0 0 0 0 0 0 0 0\n",
            " 0 0 2 0 1 0 0 0 0 0 0 1 2 0 2 1 2 1 0 1 0 0 1 2 0 0 0 0 0 1 2 0 0 0 1 0 1\n",
            " 0 1 1 0 0 0 2 2 2 0 0 0 0 2 0 0 0 0 0 0 1 0 1 0 0 1 1 2 1 0 1 0 2 2 0 2 0\n",
            " 0 0 0 1 0 1 2 0 0 0 0 0 0 1 0 1 0 1 0 1 0 1 1 0 0 0 0 2 1 0 0 0 1 0 0 0 0\n",
            " 0 0 0 0 0 0 0 2 0 1 2 0 1 1 0 0 0 0 0 0 0 1 0 1 1 0 1 2 2 0 0 2 1 0 1 0 0\n",
            " 0 0 1 0 2 0 0 0 0 0 1 1 2 0 0 0 0 0 0 1 0 1 0 1 2 0 0 0 0 2 2 0 2 1 1 0 0\n",
            " 1 0 1 0 0 0 1 0 1 0 0 0 1 2 2 1 0 0 2 0 0 0 0 1 0 0 0 0 0 1 0 0 0 2 0 1 0\n",
            " 0 0 1 1 0 0 0 0 0 0 1 0 0 0 0 2 1 0 0 1 0 2 0 0 1 1 0 0 0 2 0 0 0 0 0 0 1\n",
            " 1 0 1 0 0 0 0 0 0 0 1 0 0 0 0 1 0 2 0 0 2 0 0 1 1 0 2 2 0 0 2 0 0 1 2 0 1\n",
            " 0 0 2 0 0 0 1 0 0 0 1 0 2 1 0 0 1 0 0 1 0 1 1 1 0 0 0 1 0 0 2 0 1 0 0 0 0\n",
            " 0 0 1 2 0 1 2 0 0 0 2 0 0 1 1 0 1 0 0 0 0 1 1 0 0 0 0 2 1 2 0 1 0 0 0 1 1\n",
            " 1 0 0 0 0 1 0 2 0 0 0 0 0 0 2 0 0 0 0 0 2 2 1 0 0 0 2 0 0 0 0 1 0 1 1 2 0\n",
            " 1 2 0 0 0 0 0 1 1 0 1 1 1 2 2 0 0 0 0 1 0 2 0 0 1 0 1 2 0 0 1 0 1 0 1 0 1\n",
            " 1 0 1 0 0 0 0 0 0 0 0 0 0 0 0 1 1 1 0 1 1 1 0 0 1 0 0 1 0 0 0 2 0 0 1 1 1\n",
            " 0 0 0 0 0 0 0 0 1 0 0 0 0 0 0 2 0 0 0 0 0 0 2 0 1 0 0 1 0 0 1 2 1 2 1 0 0\n",
            " 0 1 1 2 1 1 0 0 0 0 1 0 0 0 1 1 0 0 2 2 1 0 0 1 2 0 0 1 0 0 0 0 0 0 0 1 2\n",
            " 1 0 0 0 0 1 1 0 1 1 2 1 0 1 2 0 1 0 0 1 0 0 0 0 0 0 1 1 0 2 1 0 2 0 1 2 2\n",
            " 1 0 0 0 0 0 2 0 0 1 0 0 0 2 1 0 1 1 1 2 0 0 0 0 2 1 0 1 0 2 1 0 0 1 0 0 1\n",
            " 0 2 1 2 1 0 0 0]\n"
          ]
        }
      ]
    },
    {
      "cell_type": "code",
      "source": [
        "print(y_test)"
      ],
      "metadata": {
        "colab": {
          "base_uri": "https://localhost:8080/"
        },
        "id": "CRnfy4rqLv2C",
        "outputId": "e0acc649-41d0-4c56-daf4-7b8bc6cd7d9f"
      },
      "execution_count": 72,
      "outputs": [
        {
          "output_type": "stream",
          "name": "stdout",
          "text": [
            "[0 0 0 0 0 0 2 0 0 2 0 0 0 0 1 0 0 1 2 0 1 0 1 0 2 1 0 0 0 0 1 0 0 0 1 0 0\n",
            " 1 1 1 0 0 2 1 0 0 0 0 0 0 0 0 0 1 0 0 1 0 1 1 0 0 0 0 2 0 0 2 0 2 2 1 0 0\n",
            " 1 0 0 1 0 1 0 1 1 0 2 1 0 1 1 0 0 1 2 0 0 1 0 0 2 0 2 0 0 1 0 0 0 0 0 1 0\n",
            " 2 1 0 0 0 0 1 2 1 0 1 0 0 2 0 1 1 0 0 0 1 1 0 0 2 2 0 2 2 1 2 0 0 1 0 1 0\n",
            " 0 1 1 0 0 0 0 0 0 2 0 2 0 1 0 0 1 1 0 0 1 0 0 0 0 2 0 1 1 2 1 1 2 0 1 1 0\n",
            " 1 1 2 0 0 2 1 0 1 0 2 1 0 0 0 0 0 0 0 0 0 2 0 1 2 1 0 0 0 1 1 1 0 0 0 0 0\n",
            " 0 0 0 0 0 2 0 1 1 0 0 1 0 0 0 2 0 0 0 1 1 1 1 0 2 0 1 1 0 0 1 0 1 0 0 1 0\n",
            " 0 0 0 0 1 1 0 1 0 0 0 0 1 0 0 0 0 0 0 0 0 0 0 2 0 1 1 1 0 1 1 1 2 0 0 0 1\n",
            " 0 0 0 0 0 0 0 0 1 0 1 0 1 0 2 0 1 1 0 1 1 0 2 1 1 1 0 0 0 0 2 0 0 1 0 0 0\n",
            " 0 1 2 0 1 0 2 0 1 0 0 1 2 0 0 1 2 1 1 0 0 0 1 2 0 0 0 0 1 1 2 0 0 0 0 0 1\n",
            " 2 1 1 2 2 1 2 0 2 0 1 0 0 2 0 0 0 0 0 1 1 0 1 1 0 0 0 0 0 0 1 0 0 1 0 0 0\n",
            " 0 1 2 1 0 0 0 1 0 2 0 0 0 1 0 1 0 0 1 1 1 0 1 0 1 0 0 0 1 0 0 0 0 0 0 0 2\n",
            " 0 0 1 0 0 0 0 1 0 1 0 2 1 1 0 0 0 0 0 0 0 0 0 1 1 0 0 0 0 0 0 0 1 0 2 2 2\n",
            " 0 0 1 0 2 0 0 1 1 0 1 1 2 2 1 0 0 0 0 1 1 1 2 0 1 0 0 0 0 0 2 1 0 1 0 0 0\n",
            " 1 0 1 0 1 0 1 1 1 2 0 0 1 2 2 1 0 0 0 1 0 0 2 1 0 1 0 0 0 0 0 0 0 2 0 1 0\n",
            " 0 2 1 1 0 0 2 0 1 0 1 2 0 0 0 0 2 0 0 0 0 0 1 0 1 1 0 2 0 0 0 0 0 0 0 0 1\n",
            " 0 1 2 0 0 0 0 0 0 0 1 0 0 0 1 1 0 2 0 0 0 0 0 0 1 1 2 2 2 1 2 0 0 1 0 0 1\n",
            " 0 0 2 0 0 0 1 0 0 0 1 0 0 1 1 0 1 1 2 0 0 0 1 2 2 0 0 0 0 0 2 0 1 0 0 2 0\n",
            " 1 0 1 1 0 1 2 1 0 0 2 1 0 0 0 0 0 0 0 0 0 2 1 0 0 0 1 1 1 2 1 2 0 0 2 1 1\n",
            " 1 0 0 0 0 2 0 0 0 0 0 0 1 0 2 0 0 0 0 0 2 1 1 0 0 0 2 1 0 1 0 1 0 0 1 0 0\n",
            " 1 2 0 0 0 0 0 1 1 0 0 1 1 0 1 0 2 1 0 1 0 2 0 0 1 1 0 2 1 0 1 2 1 2 1 0 0\n",
            " 1 0 1 0 0 0 0 0 0 1 0 0 0 0 0 0 0 1 0 0 0 0 0 0 1 0 0 2 1 0 1 2 0 0 1 1 2\n",
            " 0 0 0 0 0 2 0 0 0 0 1 0 0 0 0 1 0 0 0 0 0 0 2 0 1 0 0 1 0 0 1 2 1 0 1 0 0\n",
            " 0 2 1 0 1 0 0 1 0 0 1 0 2 0 1 0 0 0 2 0 0 2 0 1 2 1 0 1 1 0 0 0 1 1 0 0 2\n",
            " 1 0 0 0 0 1 0 0 0 0 1 0 0 1 2 1 1 1 0 0 0 0 0 0 0 0 1 0 0 2 0 1 2 0 1 2 1\n",
            " 0 0 1 1 0 0 2 0 1 0 0 0 0 2 1 1 1 1 1 1 0 0 0 0 2 1 0 1 0 0 1 2 1 1 0 0 1\n",
            " 0 0 0 0 1 0 0 0]\n"
          ]
        }
      ]
    },
    {
      "cell_type": "markdown",
      "source": [
        "**Random Forest Classifier**"
      ],
      "metadata": {
        "id": "CAXJ15ejMQ0J"
      }
    },
    {
      "cell_type": "code",
      "source": [
        "from sklearn.ensemble import RandomForestClassifier"
      ],
      "metadata": {
        "id": "I9a7ZmQ9ioVA"
      },
      "execution_count": 73,
      "outputs": []
    },
    {
      "cell_type": "code",
      "source": [
        "RFC = RandomForestClassifier(n_estimators = 100)"
      ],
      "metadata": {
        "id": "BoghwDf8UWtV"
      },
      "execution_count": 74,
      "outputs": []
    },
    {
      "cell_type": "code",
      "source": [
        "RFC.fit(X_train_vectorized, y_train)"
      ],
      "metadata": {
        "colab": {
          "base_uri": "https://localhost:8080/"
        },
        "id": "tHkjI30IUlF-",
        "outputId": "dac1d01f-fa43-4012-a1c0-8f70881497a8"
      },
      "execution_count": 75,
      "outputs": [
        {
          "output_type": "execute_result",
          "data": {
            "text/plain": [
              "RandomForestClassifier()"
            ]
          },
          "metadata": {},
          "execution_count": 75
        }
      ]
    },
    {
      "cell_type": "code",
      "source": [
        "RFC_predict = RFC.predict(X_test_vectorized)"
      ],
      "metadata": {
        "id": "3fEEno-CUofE"
      },
      "execution_count": 76,
      "outputs": []
    },
    {
      "cell_type": "code",
      "source": [
        "RFC_score = RFC.score(X_test_vectorized, y_test)\n",
        "print(RFC_score)"
      ],
      "metadata": {
        "colab": {
          "base_uri": "https://localhost:8080/"
        },
        "id": "xFyk1naiUwiL",
        "outputId": "212ba087-20c3-4c2f-8d06-497d0b9e29fb"
      },
      "execution_count": 77,
      "outputs": [
        {
          "output_type": "stream",
          "name": "stdout",
          "text": [
            "0.7628865979381443\n"
          ]
        }
      ]
    },
    {
      "cell_type": "code",
      "source": [
        "print(classification_report(y_test, RFC_predict))"
      ],
      "metadata": {
        "colab": {
          "base_uri": "https://localhost:8080/"
        },
        "id": "cn_wEXNiM5cU",
        "outputId": "f5ee57c6-06c1-4d3c-f764-46d9bdd1891d"
      },
      "execution_count": 81,
      "outputs": [
        {
          "output_type": "stream",
          "name": "stdout",
          "text": [
            "              precision    recall  f1-score   support\n",
            "\n",
            "           0       0.78      0.92      0.84       576\n",
            "           1       0.73      0.57      0.64       273\n",
            "           2       0.70      0.46      0.56       121\n",
            "\n",
            "    accuracy                           0.76       970\n",
            "   macro avg       0.74      0.65      0.68       970\n",
            "weighted avg       0.76      0.76      0.75       970\n",
            "\n"
          ]
        }
      ]
    },
    {
      "cell_type": "markdown",
      "source": [
        "**TF-IDF**"
      ],
      "metadata": {
        "id": "dXsTng-18OUd"
      }
    },
    {
      "cell_type": "code",
      "source": [
        "from sklearn.feature_extraction.text import TfidfVectorizer\n",
        "tfidf_vect = TfidfVectorizer().fit(x_train)"
      ],
      "metadata": {
        "id": "mfgFA9_p8Q-r"
      },
      "execution_count": 82,
      "outputs": []
    },
    {
      "cell_type": "code",
      "source": [
        "X_train_vectorized_tfidf = tfidf_vect.transform(x_train)"
      ],
      "metadata": {
        "id": "IfeSiIog8SBc"
      },
      "execution_count": 83,
      "outputs": []
    },
    {
      "cell_type": "code",
      "source": [
        "RFC.fit(X_train_vectorized_tfidf, y_train)"
      ],
      "metadata": {
        "colab": {
          "base_uri": "https://localhost:8080/"
        },
        "outputId": "aa7e3ccf-5e5d-4414-d67f-3f88c82d57b8",
        "id": "fwZZigtwORdp"
      },
      "execution_count": 85,
      "outputs": [
        {
          "output_type": "execute_result",
          "data": {
            "text/plain": [
              "RandomForestClassifier()"
            ]
          },
          "metadata": {},
          "execution_count": 85
        }
      ]
    },
    {
      "cell_type": "code",
      "source": [
        "RFC_predict = RFC.predict(tfidf_vect.transform(x_test))"
      ],
      "metadata": {
        "id": "YBC_vijfORdr"
      },
      "execution_count": 86,
      "outputs": []
    },
    {
      "cell_type": "code",
      "source": [
        "RFC_score = RFC.score(tfidf_vect.transform(x_test), y_test)\n",
        "print(RFC_score)"
      ],
      "metadata": {
        "colab": {
          "base_uri": "https://localhost:8080/"
        },
        "outputId": "845e3e13-0450-4fe3-d33f-5c00a9d51a0f",
        "id": "pma-UQcyORdr"
      },
      "execution_count": 88,
      "outputs": [
        {
          "output_type": "stream",
          "name": "stdout",
          "text": [
            "0.7525773195876289\n"
          ]
        }
      ]
    },
    {
      "cell_type": "code",
      "source": [
        "print(classification_report(y_test, RFC_predict))"
      ],
      "metadata": {
        "colab": {
          "base_uri": "https://localhost:8080/"
        },
        "outputId": "d93d408d-4752-4f88-a369-990f59cf24d7",
        "id": "XKCvJ3cTORds"
      },
      "execution_count": 89,
      "outputs": [
        {
          "output_type": "stream",
          "name": "stdout",
          "text": [
            "              precision    recall  f1-score   support\n",
            "\n",
            "           0       0.76      0.94      0.84       576\n",
            "           1       0.75      0.50      0.60       273\n",
            "           2       0.74      0.42      0.54       121\n",
            "\n",
            "    accuracy                           0.75       970\n",
            "   macro avg       0.75      0.62      0.66       970\n",
            "weighted avg       0.75      0.75      0.73       970\n",
            "\n"
          ]
        }
      ]
    },
    {
      "cell_type": "code",
      "source": [
        "DT.fit(X_train_vectorized_tfidf, y_train)"
      ],
      "metadata": {
        "colab": {
          "base_uri": "https://localhost:8080/"
        },
        "id": "lM2ZxxLgOtGP",
        "outputId": "a216c2ea-6572-4e4e-bcf7-e1c50c5f8272"
      },
      "execution_count": 90,
      "outputs": [
        {
          "output_type": "execute_result",
          "data": {
            "text/plain": [
              "DecisionTreeClassifier()"
            ]
          },
          "metadata": {},
          "execution_count": 90
        }
      ]
    },
    {
      "cell_type": "code",
      "source": [
        "DT_predict = DT.predict(tfidf_vect.transform(x_test))"
      ],
      "metadata": {
        "id": "U14h6us9O4KG"
      },
      "execution_count": 91,
      "outputs": []
    },
    {
      "cell_type": "code",
      "source": [
        "DT_score = RFC.score(tfidf_vect.transform(x_test), y_test)\n",
        "print(DT_score)"
      ],
      "metadata": {
        "colab": {
          "base_uri": "https://localhost:8080/"
        },
        "outputId": "dea94bbf-acd1-4c30-c37f-b1c5c3a3f4c0",
        "id": "uwgYH17AO4KH"
      },
      "execution_count": 93,
      "outputs": [
        {
          "output_type": "stream",
          "name": "stdout",
          "text": [
            "0.7525773195876289\n"
          ]
        }
      ]
    },
    {
      "cell_type": "code",
      "source": [
        "print(classification_report(y_test, DT_predict))"
      ],
      "metadata": {
        "colab": {
          "base_uri": "https://localhost:8080/"
        },
        "outputId": "c4807dbf-3de8-41c3-c752-05b3037cc79d",
        "id": "n_NSBPo3O4KH"
      },
      "execution_count": 94,
      "outputs": [
        {
          "output_type": "stream",
          "name": "stdout",
          "text": [
            "              precision    recall  f1-score   support\n",
            "\n",
            "           0       0.78      0.80      0.79       576\n",
            "           1       0.60      0.58      0.59       273\n",
            "           2       0.56      0.53      0.54       121\n",
            "\n",
            "    accuracy                           0.71       970\n",
            "   macro avg       0.65      0.64      0.64       970\n",
            "weighted avg       0.70      0.71      0.70       970\n",
            "\n"
          ]
        }
      ]
    },
    {
      "cell_type": "markdown",
      "source": [
        "**GRU**"
      ],
      "metadata": {
        "id": "NINTIAk_4BSH"
      }
    },
    {
      "cell_type": "code",
      "source": [
        "num_words=1000 # number of words that we are going to use. \n",
        "\n",
        "data = dataset['News'].values.tolist()\n",
        "\n",
        "tokenizer=Tokenizer(num_words=num_words)\n",
        "tokenizer.fit_on_texts(data)\n",
        "\n",
        "#tokenization\n",
        "x_train_tokens=tokenizer.texts_to_sequences(x_train)\n",
        "x_test_tokens=tokenizer.texts_to_sequences(x_test)\n",
        "\n",
        "\n",
        "#padding\n",
        "x_train_pad=pad_sequences(x_train_tokens)\n",
        "x_test_pad=pad_sequences(x_test_tokens)"
      ],
      "metadata": {
        "id": "RkfoMX5QY9Lh"
      },
      "execution_count": 116,
      "outputs": []
    },
    {
      "cell_type": "code",
      "source": [
        "x_train_pad.shape"
      ],
      "metadata": {
        "id": "BEW1IijmfYcb",
        "colab": {
          "base_uri": "https://localhost:8080/"
        },
        "outputId": "161b2448-1bb9-48b5-8cd7-c57f017989cc"
      },
      "execution_count": 127,
      "outputs": [
        {
          "output_type": "execute_result",
          "data": {
            "text/plain": [
              "(3876, 28)"
            ]
          },
          "metadata": {},
          "execution_count": 127
        }
      ]
    },
    {
      "cell_type": "code",
      "source": [
        "model=Sequential()\n",
        "embedding_size=50  #create a 50 size vector for each word.\n",
        "model.add(Embedding(input_dim=num_words,\n",
        "                    output_dim=embedding_size,\n",
        "                    input_length=28,\n",
        "                    name='embedding_layer')) \n",
        "\n",
        "model.add(GRU(units=16,return_sequences=True) )\n",
        "model.add(GRU(units=8, return_sequences=True))\n",
        "model.add(GRU(units=4))\n",
        "model.add(Dense(3,activation='softmax'))\n",
        "optimizer=Adam(lr=1e-3)"
      ],
      "metadata": {
        "colab": {
          "base_uri": "https://localhost:8080/"
        },
        "id": "nc9X7o-tfbyn",
        "outputId": "04a6f64b-ae31-4ffc-ca9c-3c42df2a3041"
      },
      "execution_count": 128,
      "outputs": [
        {
          "output_type": "stream",
          "name": "stderr",
          "text": [
            "/usr/local/lib/python3.7/dist-packages/keras/optimizer_v2/adam.py:105: UserWarning: The `lr` argument is deprecated, use `learning_rate` instead.\n",
            "  super(Adam, self).__init__(name, **kwargs)\n"
          ]
        }
      ]
    },
    {
      "cell_type": "code",
      "source": [
        "model.compile(loss='sparse_categorical_crossentropy',\n",
        "              optimizer=optimizer,\n",
        "              metrics=['accuracy'])"
      ],
      "metadata": {
        "id": "keYNpwYnfe2e"
      },
      "execution_count": 129,
      "outputs": []
    },
    {
      "cell_type": "code",
      "source": [
        "model.build(input_shape=(None,28))\n",
        "model.summary()"
      ],
      "metadata": {
        "colab": {
          "base_uri": "https://localhost:8080/"
        },
        "id": "v8kFp5Aufh8W",
        "outputId": "aef42d4a-4171-4ec2-bf28-842b795942b8"
      },
      "execution_count": 131,
      "outputs": [
        {
          "output_type": "stream",
          "name": "stdout",
          "text": [
            "Model: \"sequential_6\"\n",
            "_________________________________________________________________\n",
            " Layer (type)                Output Shape              Param #   \n",
            "=================================================================\n",
            " module_wrapper_30 (ModuleWr  (None, 28, 50)           50000     \n",
            " apper)                                                          \n",
            "                                                                 \n",
            " module_wrapper_31 (ModuleWr  (None, 28, 16)           3216      \n",
            " apper)                                                          \n",
            "                                                                 \n",
            " module_wrapper_32 (ModuleWr  (None, 28, 8)            600       \n",
            " apper)                                                          \n",
            "                                                                 \n",
            " module_wrapper_33 (ModuleWr  (None, 4)                156       \n",
            " apper)                                                          \n",
            "                                                                 \n",
            " module_wrapper_34 (ModuleWr  (None, 3)                15        \n",
            " apper)                                                          \n",
            "                                                                 \n",
            "=================================================================\n",
            "Total params: 53,987\n",
            "Trainable params: 53,987\n",
            "Non-trainable params: 0\n",
            "_________________________________________________________________\n"
          ]
        }
      ]
    },
    {
      "cell_type": "code",
      "source": [
        "history = model.fit(x_train_pad,\n",
        "          y_train,\n",
        "          epochs=5, validation_split=0.2)"
      ],
      "metadata": {
        "colab": {
          "base_uri": "https://localhost:8080/"
        },
        "id": "B0ZXvSbAflAP",
        "outputId": "992df374-703c-47b3-c717-371f981a90fc"
      },
      "execution_count": 132,
      "outputs": [
        {
          "output_type": "stream",
          "name": "stdout",
          "text": [
            "Epoch 1/5\n",
            "97/97 [==============================] - 15s 73ms/step - loss: 0.9066 - accuracy: 0.5948 - val_loss: 0.8054 - val_accuracy: 0.6456\n",
            "Epoch 2/5\n",
            "97/97 [==============================] - 6s 64ms/step - loss: 0.7336 - accuracy: 0.6777 - val_loss: 0.7169 - val_accuracy: 0.6856\n",
            "Epoch 3/5\n",
            "97/97 [==============================] - 6s 63ms/step - loss: 0.5792 - accuracy: 0.7703 - val_loss: 0.6740 - val_accuracy: 0.7268\n",
            "Epoch 4/5\n",
            "97/97 [==============================] - 6s 64ms/step - loss: 0.4706 - accuracy: 0.8277 - val_loss: 0.6652 - val_accuracy: 0.7229\n",
            "Epoch 5/5\n",
            "97/97 [==============================] - 6s 64ms/step - loss: 0.4066 - accuracy: 0.8539 - val_loss: 0.6983 - val_accuracy: 0.7062\n"
          ]
        }
      ]
    },
    {
      "cell_type": "code",
      "source": [
        "print(history.history.keys())"
      ],
      "metadata": {
        "id": "NYWPYHm_hhbc",
        "colab": {
          "base_uri": "https://localhost:8080/"
        },
        "outputId": "f8f15f3d-a97d-4997-87ef-1738ecb62b6c"
      },
      "execution_count": 133,
      "outputs": [
        {
          "output_type": "stream",
          "name": "stdout",
          "text": [
            "dict_keys(['loss', 'accuracy', 'val_loss', 'val_accuracy'])\n"
          ]
        }
      ]
    },
    {
      "cell_type": "code",
      "metadata": {
        "colab": {
          "base_uri": "https://localhost:8080/",
          "height": 315
        },
        "id": "VPd3GXV4PeJc",
        "outputId": "0831b2e2-3880-4817-e13f-1af7c3c6db35"
      },
      "source": [
        "plt.plot(history.history['accuracy'])\n",
        "plt.plot(history.history['val_accuracy'])\n",
        "plt.title('model accuracy')\n",
        "plt.ylabel('accuracy')\n",
        "plt.xlabel('epoch')\n",
        "plt.legend(['train', 'validation'], loc='lower right')\n",
        "plt.savefig('accuracy_epoch.png')\n",
        "plt.show()"
      ],
      "execution_count": 134,
      "outputs": [
        {
          "output_type": "display_data",
          "data": {
            "text/plain": [
              "<Figure size 432x288 with 1 Axes>"
            ],
            "image/png": "[encoded data removed]"
          },
          "metadata": {}
        }
      ]
    },
    {
      "cell_type": "code",
      "metadata": {
        "colab": {
          "base_uri": "https://localhost:8080/",
          "height": 315
        },
        "id": "IjkFaRLrPkwJ",
        "outputId": "e7f87d2a-1bd1-4fcb-abb8-41fa01d69204"
      },
      "source": [
        "plt.plot(history.history['loss'])\n",
        "plt.plot(history.history['val_loss'])\n",
        "plt.title('model loss')\n",
        "plt.ylabel('loss')\n",
        "plt.xlabel('epoch')\n",
        "plt.legend(['train', 'validation'], loc='upper right')\n",
        "plt.savefig('loss_epoch.png')\n",
        "plt.show()"
      ],
      "execution_count": 135,
      "outputs": [
        {
          "output_type": "display_data",
          "data": {
            "text/plain": [
              "<Figure size 432x288 with 1 Axes>"
            ],
            "image/png": "[encoded data removed]"
          },
          "metadata": {}
        }
      ]
    },
    {
      "cell_type": "code",
      "source": [],
      "metadata": {
        "id": "vGYl2RwMdQXP"
      },
      "execution_count": null,
      "outputs": []
    }
  ]
}